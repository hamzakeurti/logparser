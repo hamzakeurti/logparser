{
 "cells": [
  {
   "cell_type": "code",
   "execution_count": 6,
   "metadata": {
    "collapsed": false
   },
   "outputs": [],
   "source": [
    "import os\n",
    "os.chdir(\"C:/Users/hamza/Projects/Tsinghua/ANM/assignment2/logparser\")"
   ]
  },
  {
   "cell_type": "code",
   "execution_count": 8,
   "metadata": {},
   "outputs": [],
   "source": [
    "from logparser.LogSig import *"
   ]
  },
  {
   "cell_type": "code",
   "execution_count": 9,
   "metadata": {},
   "outputs": [],
   "source": [
    "RawLogPath = 'data/2kBGL/'\n",
    "RawLogFile = 'rawlog.log'\n",
    "OutputPath = 'data/2kBGL/results/'"
   ]
  },
  {
   "cell_type": "code",
   "execution_count": 10,
   "metadata": {},
   "outputs": [],
   "source": [
    "para=Para(path=RawLogPath,logname=RawLogFile,savePath=OutputPath)"
   ]
  },
  {
   "cell_type": "code",
   "execution_count": 11,
   "metadata": {},
   "outputs": [],
   "source": [
    "myparser = LogSig(para)"
   ]
  },
  {
   "cell_type": "code",
   "execution_count": 12,
   "metadata": {},
   "outputs": [
    {
     "name": "stdout",
     "output_type": "stream",
     "text": [
      "Loading Log File...\ndata/2kBGL/rawlog.log\nTrue\n14\nGenerating term pairs...\ninitializing...\n=======initial group division(Random Select)=====================\nLog Number of each group is:  [130, 166, 132, 117, 126, 142, 149, 152, 155, 140, 141, 140, 151, 159]\n"
     ]
    },
    {
     "name": "stdout",
     "output_type": "stream",
     "text": [
      "===================================================\n[67, 28, 230, 107, 21, 24, 54, 35, 721, 228, 89, 217, 86, 93]\n===================================================\n[('RAS', 'KERNEL', 'INFO', 'instruction', 'cache', 'parity', 'error', 'corrected'), ('RAS', 'KERNEL', 'INFO'), ('RAS', 'KERNEL', 'INFO', 'floating', 'point', 'alignment', 'exceptions'), ('RAS', 'APP', 'FATAL', 'ciod:', 'Error', 'loading', 'invalid', 'or', 'missing', 'program', 'image,'), ('NULL', 'DISCOVERY', 'card', 'VPD', 'node', 'card', 'not', 'VPD'), ('NULL', 'DISCOVERY'), ('RAS', 'KERNEL', 'INFO', '1', 'ddr', 'error(s)', 'detected', 'and', 'corrected'), ('NULL', 'RAS', 'MMCS', 'ERROR', 'idoproxydb', 'hit', 'ASSERT', 'condition:', 'ASSERT', 'expression=0', 'Source', 'file=idotransportmgr.cpp', 'Source', 'line=1043', 'Function=int', 'IdoTransportMgr::SendPacket(IdoUdpMgr*,', 'BglCtlPavTrace*)'), ('RAS', 'KERNEL', 'INFO', 'generating'), ('RAS', 'KERNEL', 'FATAL'), ('RAS', 'KERNEL', 'INFO', 'total', 'interrupts.', '0', 'critical', 'input', 'interrupts.', '0', 'microseconds', 'total', 'spent', 'on', 'critical', 'input', 'interrupts,', '0', 'microseconds', 'max', 'time', 'in', 'a', 'critical', 'input', 'interrupt.'), ('RAS', 'KERNEL', 'INFO', 'iar', 'dear'), ('RAS', 'KERNEL', 'INFO', '0', 'microseconds', 'spent', 'in', 'the', 'rbs', 'signal', 'handler', 'during', '0', 'calls.', '0', 'microseconds', 'was', 'the', 'maximum', 'time', 'for', 'a', 'single', 'instance', 'of', 'a', 'correctable', 'ddr.'), ('RAS', 'KERNEL', 'INFO', 'CE', 'sym', 'at', 'mask')]\nthis process takes 7.259852170944214\n*********************************************\n"
     ]
    },
    {
     "data": {
      "text/plain": [
       "7.259852170944214"
      ]
     },
     "execution_count": 12,
     "metadata": {},
     "output_type": "execute_result"
    }
   ],
   "source": [
    "myparser.mainProcess()"
   ]
  },
  {
   "cell_type": "code",
   "execution_count": 14,
   "metadata": {},
   "outputs": [],
   "source": [
    "import logparser.IPLoM as IPLoM"
   ]
  },
  {
   "cell_type": "code",
   "execution_count": 15,
   "metadata": {},
   "outputs": [],
   "source": [
    "RawLogPath = 'data/2kBGL/'\n",
    "RawLogFile = 'rawlog.log'\n",
    "OutputPath = 'templates/IPLoM/2kBGL/'\n",
    "IPLoMPara = IPLoM.Para(path=RawLogPath,\n",
    "                       logname=RawLogFile,\n",
    "                       savePath=OutputPath,\n",
    "                       CT=0.4,lowerBound=0.01,\n",
    "                       removeCol=[0,1,2,3,4,5,6,7,8],\n",
    "                       regular=['core\\.[0-9]*'])"
   ]
  },
  {
   "cell_type": "code",
   "execution_count": 16,
   "metadata": {},
   "outputs": [],
   "source": [
    "myparser = IPLoM.IPLoM(para=IPLoMPara)"
   ]
  },
  {
   "cell_type": "code",
   "execution_count": 17,
   "metadata": {},
   "outputs": [
    {
     "name": "stdout",
     "output_type": "stream",
     "text": [
      "this process takes 0.05570173263549805\n*********************************************\n"
     ]
    },
    {
     "data": {
      "text/plain": [
       "0.05570173263549805"
      ]
     },
     "execution_count": 17,
     "metadata": {},
     "output_type": "execute_result"
    }
   ],
   "source": [
    "myparser.mainProcess()"
   ]
  },
  {
   "cell_type": "code",
   "execution_count": null,
   "metadata": {},
   "outputs": [],
   "source": []
  }
 ],
 "metadata": {
  "kernelspec": {
   "display_name": "Python 2",
   "language": "python",
   "name": "python2"
  },
  "language_info": {
   "codemirror_mode": {
    "name": "ipython",
    "version": 2
   },
   "file_extension": ".py",
   "mimetype": "text/x-python",
   "name": "python",
   "nbconvert_exporter": "python",
   "pygments_lexer": "ipython2",
   "version": "2.7.6"
  }
 },
 "nbformat": 4,
 "nbformat_minor": 0
}
