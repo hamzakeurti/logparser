{
 "cells": [
  {
   "cell_type": "code",
   "execution_count": 6,
   "metadata": {
    "collapsed": false
   },
   "outputs": [],
   "source": [
    "import os\n",
    "os.chdir(\"C:/Users/hamza/Projects/Tsinghua/ANM/assignment2/logparser\")"
   ]
  },
  {
   "cell_type": "code",
   "execution_count": 8,
   "metadata": {},
   "outputs": [],
   "source": [
    "from logparser.LogSig import *"
   ]
  },
  {
   "cell_type": "code",
   "execution_count": 9,
   "metadata": {},
   "outputs": [],
   "source": [
    "RawLogPath = 'data/2kBGL/'\n",
    "RawLogFile = 'rawlog.log'\n",
    "OutputPath = 'data/2kBGL/results/'"
   ]
  },
  {
   "cell_type": "code",
   "execution_count": 10,
   "metadata": {},
   "outputs": [],
   "source": [
    "para=Para(path=RawLogPath,logname=RawLogFile,savePath=OutputPath)"
   ]
  },
  {
   "cell_type": "code",
   "execution_count": 11,
   "metadata": {},
   "outputs": [],
   "source": [
    "myparser = LogSig(para)"
   ]
  },
  {
   "cell_type": "code",
   "execution_count": 12,
   "metadata": {},
   "outputs": [
    {
     "name": "stdout",
     "output_type": "stream",
     "text": [
      "Loading Log File...\ndata/2kBGL/rawlog.log\nTrue\n14\nGenerating term pairs...\ninitializing...\n=======initial group division(Random Select)=====================\nLog Number of each group is:  [130, 166, 132, 117, 126, 142, 149, 152, 155, 140, 141, 140, 151, 159]\n"
     ]
    },
    {
     "name": "stdout",
     "output_type": "stream",
     "text": [
      "===================================================\n[67, 28, 230, 107, 21, 24, 54, 35, 721, 228, 89, 217, 86, 93]\n===================================================\n[('RAS', 'KERNEL', 'INFO', 'instruction', 'cache', 'parity', 'error', 'corrected'), ('RAS', 'KERNEL', 'INFO'), ('RAS', 'KERNEL', 'INFO', 'floating', 'point', 'alignment', 'exceptions'), ('RAS', 'APP', 'FATAL', 'ciod:', 'Error', 'loading', 'invalid', 'or', 'missing', 'program', 'image,'), ('NULL', 'DISCOVERY', 'card', 'VPD', 'node', 'card', 'not', 'VPD'), ('NULL', 'DISCOVERY'), ('RAS', 'KERNEL', 'INFO', '1', 'ddr', 'error(s)', 'detected', 'and', 'corrected'), ('NULL', 'RAS', 'MMCS', 'ERROR', 'idoproxydb', 'hit', 'ASSERT', 'condition:', 'ASSERT', 'expression=0', 'Source', 'file=idotransportmgr.cpp', 'Source', 'line=1043', 'Function=int', 'IdoTransportMgr::SendPacket(IdoUdpMgr*,', 'BglCtlPavTrace*)'), ('RAS', 'KERNEL', 'INFO', 'generating'), ('RAS', 'KERNEL', 'FATAL'), ('RAS', 'KERNEL', 'INFO', 'total', 'interrupts.', '0', 'critical', 'input', 'interrupts.', '0', 'microseconds', 'total', 'spent', 'on', 'critical', 'input', 'interrupts,', '0', 'microseconds', 'max', 'time', 'in', 'a', 'critical', 'input', 'interrupt.'), ('RAS', 'KERNEL', 'INFO', 'iar', 'dear'), ('RAS', 'KERNEL', 'INFO', '0', 'microseconds', 'spent', 'in', 'the', 'rbs', 'signal', 'handler', 'during', '0', 'calls.', '0', 'microseconds', 'was', 'the', 'maximum', 'time', 'for', 'a', 'single', 'instance', 'of', 'a', 'correctable', 'ddr.'), ('RAS', 'KERNEL', 'INFO', 'CE', 'sym', 'at', 'mask')]\nthis process takes 7.259852170944214\n*********************************************\n"
     ]
    },
    {
     "data": {
      "text/plain": [
       "7.259852170944214"
      ]
     },
     "execution_count": 12,
     "metadata": {},
     "output_type": "execute_result"
    }
   ],
   "source": [
    "myparser.mainProcess()"
   ]
  },
  {
   "cell_type": "code",
   "execution_count": 38,
   "metadata": {
    "collapsed": true
   },
   "outputs": [],
   "source": [
    "import logparser.IPLoM as IPLoM\n",
    "import logparser.LogSig as LogSig\n",
    "import logparser.LKE as LKE"
   ]
  },
  {
   "cell_type": "code",
   "execution_count": 18,
   "metadata": {},
   "outputs": [],
   "source": [
    "RawLogPath = 'data/2kBGL/'\n",
    "RawLogFile = 'rawlog.log'\n",
    "OutputPath = 'templates/IPLoM/2kBGL/'\n",
    "IPLoMPara = IPLoM.Para(path=RawLogPath,\n",
    "                       logname=RawLogFile,\n",
    "                       savePath=OutputPath,\n",
    "                       CT=0.4,lowerBound=0.01,\n",
    "                       removeCol=[0,1,2,3,4,5,6,7,8],\n",
    "                       rex=['core\\.[0-9]*'])"
   ]
  },
  {
   "cell_type": "code",
   "execution_count": 19,
   "metadata": {},
   "outputs": [],
   "source": [
    "myparser = IPLoM.IPLoM(para=IPLoMPara)"
   ]
  },
  {
   "cell_type": "code",
   "execution_count": 20,
   "metadata": {},
   "outputs": [
    {
     "name": "stdout",
     "output_type": "stream",
     "text": [
      "this process takes 0.05086541175842285\n*********************************************\n"
     ]
    },
    {
     "data": {
      "text/plain": [
       "0.05086541175842285"
      ]
     },
     "execution_count": 20,
     "metadata": {},
     "output_type": "execute_result"
    }
   ],
   "source": [
    "myparser.mainProcess()"
   ]
  },
  {
   "cell_type": "code",
   "execution_count": null,
   "metadata": {},
   "outputs": [],
   "source": [
    "ParameterDict = {\n",
    "    'IPLoM':{\n",
    "        '2kBGL':{\n",
    "            'ct':0.4,\n",
    "            'lowerBound':0.01,\n",
    "            'removeCol':[0,1,2,3,4,5,6,7,8],\n",
    "            'regL':['core\\.[0-9]*']\n",
    "        },\n",
    "        '2kHDFS':{\n",
    "            'ct':0.35,\n",
    "            'lowerBound':0.25,\n",
    "            'removeCol':[0,1,2,3,4],\n",
    "            'regL':['blk_(|-)[0-9]+','(/|)([0-9]+\\.){3}[0-9]+(:[0-9]+|)(:|)']\n",
    "        },\n",
    "        '2kHPC':{\n",
    "            'ct':0.175,\n",
    "            'lowerBound':0.25,\n",
    "            'removeCol':[0],\n",
    "            'regL':['([0-9]+\\.){3}[0-9]']\n",
    "        },\n",
    "        '2kProxifier':{\n",
    "            'ct':0.6,\n",
    "            'lowerBound':0.25,\n",
    "            'removeCol':[0,1,3,4],\n",
    "            'regL':[]\n",
    "        },\n",
    "        '2kZookeeper':{\n",
    "            'ct':0.4,\n",
    "            'lowerBound':0.7,\n",
    "            'removeCol':[0,1,2,3,4,5],\n",
    "            'regL':['(/|)([0-9]+\\.){3}[0-9]+(:[0-9]+|)(:|)']\n",
    "        }\n",
    "    },\n",
    "    'LogSig':{\n",
    "        '2kBGL':{\n",
    "            'groupNum':100,\n",
    "            'removeCol':[0,1,2,3,4,5,6,7,8,9],\n",
    "            'regL':['core\\.[0-9]*']\n",
    "        },\n",
    "        '2kHDFS':{\n",
    "            'groupNum':14,\n",
    "            'removeCol':[0,1,2,3,4],\n",
    "            'regL':['blk_(|-)[0-9]+','(/|)([0-9]+\\.){3}[0-9]+(:[0-9]+|)(:|)']\n",
    "        },\n",
    "        '2kHPC':{\n",
    "            'groupNum':51,\n",
    "            'removeCol':[0],\n",
    "            'regL':['([0-9]+\\.){3}[0-9]']\n",
    "        },\n",
    "        '2kProxifier':{\n",
    "            'groupNum':6,\n",
    "            'removeCol':[0,1,3,4],\n",
    "            'regL':['']\n",
    "        },\n",
    "        '2kZookeeper':{\n",
    "            'groupNum':46,\n",
    "            'removeCol':[0,1,2,3,4,5],\n",
    "            'regL':['(/|)([0-9]+\\.){3}[0-9]+(:[0-9]+|)(:|)']\n",
    "        }\n",
    "    },\n",
    "    'LKE':{\n",
    "        '2kBGL':{\n",
    "            'threshold2':5,\n",
    "            'removeCol':[0,1,2,3,4,5,6,7,8,9],\n",
    "            'regL':['core\\.[0-9]*']\n",
    "        },\n",
    "        '2kHDFS':{\n",
    "            'threshold2':3,\n",
    "            'removeCol':[0,1,2,3,4],\n",
    "            'regL':['blk_(|-)[0-9]+','(/|)([0-9]+\\.){3}[0-9]+(:[0-9]+|)(:|)']\n",
    "        },\n",
    "        '2kHPC':{\n",
    "            'threshold2':4,\n",
    "            'removeCol':[0],\n",
    "            'regL':['([0-9]+\\.){3}[0-9]']\n",
    "        },\n",
    "        '2kProxifier':{\n",
    "            'threshold2':2,\n",
    "            'removeCol':[0,1,3,4],\n",
    "            'regL':['']\n",
    "        },\n",
    "        '2kZookeeper':{\n",
    "            'threshold2':2,\n",
    "            'removeCol':[0,1,2,3,4,5],\n",
    "            'regL':['(/|)([0-9]+\\.){3}[0-9]+(:[0-9]+|)(:|)']\n",
    "        }\n",
    "    }\n",
    "}\n"
   ]
  },
  {
   "cell_type": "code",
   "execution_count": null,
   "metadata": {},
   "outputs": [],
   "source": [
    "DataPath = \"data/\"\n",
    "ResultsPath = \"templates/\"\n",
    "RawLogFile = \"rawlog.log\"\n"
   ]
  },
  {
   "cell_type": "code",
   "execution_count": null,
   "metadata": {},
   "outputs": [],
   "source": [
    "results = {}"
   ]
  },
  {
   "cell_type": "code",
   "execution_count": 25,
   "metadata": {},
   "outputs": [],
   "source": [
    "for (AlgoName,dict1) in ParameterDict.items():\n",
    "    for (DataName,ParaDict) in dict1.items():\n",
    "        if AlgoName == 'LogSig':\n",
    "            parserPara = LogSig.Para(path=DataPath+DataName+\"/\",\n",
    "                                     logname=RawLogFile,\n",
    "                                     savePath=ResultsPath+AlgoName+\"/\"+DataName,\n",
    "                                     groupNum=ParaDict[\"groupNum\"],\n",
    "                                     removeCol=ParaDict[\"removeCol\"],\n",
    "                                     rex=ParaDict[\"regL\"]\n",
    "                                     )"
   ]
  },
  {
   "cell_type": "code",
   "execution_count": 29,
   "metadata": {},
   "outputs": [],
   "source": [
    "from demo.RI_precision import *"
   ]
  },
  {
   "cell_type": "code",
   "execution_count": 32,
   "metadata": {},
   "outputs": [
    {
     "name": "stdout",
     "output_type": "stream",
     "text": [
      "data/2kBGL/rawlog.log\nthere are altogether 112 files\n"
     ]
    },
    {
     "name": "stdout",
     "output_type": "stream",
     "text": [
      "there are altogether 111 files\nTP,FP,TN,FN are: 308087.0 55.0 1690855.0 3.0\nprecision is 0.9998\nrecall is 1.0000\nF measure is 0.9999\nRI is 1.0000\n"
     ]
    }
   ],
   "source": [
    "params = prePara(\n",
    "    groundTruthDataPath=DataPath+'2kBGL/',\n",
    "    geneDataPath=ResultsPath+'IPLoM/2kBGL/')\n",
    "TP,FP,TN,FN,p,r,f,RI=process(params)\n"
   ]
  },
  {
   "cell_type": "code",
   "execution_count": 33,
   "metadata": {},
   "outputs": [
    {
     "name": "stdout",
     "output_type": "stream",
     "text": [
      "data/2kBGL/rawlog.log\nthere are altogether 112 files\nthere are altogether 14 files\nTP,FP,TN,FN are: 308000.0 49830.0 1641080.0 90.0\nprecision is 0.8607\nrecall is 0.9997\nF measure is 0.9250\nRI is 0.9750\n"
     ]
    }
   ],
   "source": [
    "params = prePara(\n",
    "    groundTruthDataPath=DataPath + '2kBGL/',\n",
    "    geneDataPath=DataPath + '2kBGL/results/')\n",
    "TP, FP, TN, FN, p, r, f, RI = process(params)\n"
   ]
  },
  {
   "cell_type": "code",
   "execution_count": null,
   "metadata": {},
   "outputs": [],
   "source": []
  }
 ],
 "metadata": {
  "kernelspec": {
   "display_name": "Python 2",
   "language": "python",
   "name": "python2"
  },
  "language_info": {
   "codemirror_mode": {
    "name": "ipython",
    "version": 2
   },
   "file_extension": ".py",
   "mimetype": "text/x-python",
   "name": "python",
   "nbconvert_exporter": "python",
   "pygments_lexer": "ipython2",
   "version": "2.7.6"
  }
 },
 "nbformat": 4,
 "nbformat_minor": 0
}
